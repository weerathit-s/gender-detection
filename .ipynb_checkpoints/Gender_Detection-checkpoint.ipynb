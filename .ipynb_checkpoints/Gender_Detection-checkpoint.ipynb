{
 "cells": [
  {
   "cell_type": "code",
   "execution_count": 1,
   "id": "f4aa3188",
   "metadata": {},
   "outputs": [
    {
     "name": "stdout",
     "output_type": "stream",
     "text": [
      "Requirement already satisfied: opencv-python in /opt/miniconda3/envs/tensorflow/lib/python3.9/site-packages (4.6.0.66)\n",
      "Requirement already satisfied: numpy>=1.21.2 in /opt/miniconda3/envs/tensorflow/lib/python3.9/site-packages (from opencv-python) (1.23.2)\n",
      "Note: you may need to restart the kernel to use updated packages.\n"
     ]
    }
   ],
   "source": [
    "pip install opencv-python"
   ]
  },
  {
   "cell_type": "code",
   "execution_count": 2,
   "id": "3535acbb",
   "metadata": {},
   "outputs": [
    {
     "name": "stdout",
     "output_type": "stream",
     "text": [
      "Requirement already satisfied: cvlib in /opt/miniconda3/envs/tensorflow/lib/python3.9/site-packages (0.2.7)\n",
      "Requirement already satisfied: numpy in /opt/miniconda3/envs/tensorflow/lib/python3.9/site-packages (from cvlib) (1.23.2)\n",
      "Requirement already satisfied: imageio in /opt/miniconda3/envs/tensorflow/lib/python3.9/site-packages (from cvlib) (2.22.2)\n",
      "Requirement already satisfied: requests in /opt/miniconda3/envs/tensorflow/lib/python3.9/site-packages (from cvlib) (2.28.1)\n",
      "Requirement already satisfied: pillow in /opt/miniconda3/envs/tensorflow/lib/python3.9/site-packages (from cvlib) (9.2.0)\n",
      "Requirement already satisfied: progressbar in /opt/miniconda3/envs/tensorflow/lib/python3.9/site-packages (from cvlib) (2.5)\n",
      "Requirement already satisfied: imutils in /opt/miniconda3/envs/tensorflow/lib/python3.9/site-packages (from cvlib) (0.5.4)\n",
      "Requirement already satisfied: urllib3<1.27,>=1.21.1 in /opt/miniconda3/envs/tensorflow/lib/python3.9/site-packages (from requests->cvlib) (1.26.11)\n",
      "Requirement already satisfied: certifi>=2017.4.17 in /opt/miniconda3/envs/tensorflow/lib/python3.9/site-packages (from requests->cvlib) (2022.9.24)\n",
      "Requirement already satisfied: idna<4,>=2.5 in /opt/miniconda3/envs/tensorflow/lib/python3.9/site-packages (from requests->cvlib) (3.4)\n",
      "Requirement already satisfied: charset-normalizer<3,>=2 in /opt/miniconda3/envs/tensorflow/lib/python3.9/site-packages (from requests->cvlib) (2.1.1)\n",
      "Note: you may need to restart the kernel to use updated packages.\n"
     ]
    }
   ],
   "source": [
    "pip install cvlib"
   ]
  },
  {
   "cell_type": "code",
   "execution_count": 1,
   "id": "59934f18",
   "metadata": {},
   "outputs": [],
   "source": [
    "import cv2\n",
    "import cvlib as cv\n",
    "import sys\n",
    "import numpy as np\n",
    "from numpy.lib.type_check import imag\n",
    "image = cv2.imread('me.JPG')\n",
    "image2 = cv2.imread('Ommy.JPG')"
   ]
  },
  {
   "cell_type": "code",
   "execution_count": null,
   "id": "b9f6c726",
   "metadata": {},
   "outputs": [
    {
     "name": "stdout",
     "output_type": "stream",
     "text": [
      "Downloading data from https://download.cvlib.net/config/gender_detection/gender_deploy.prototxt\n",
      "2309/2309 [==============================] - 0s 0us/step\n",
      "Downloading data from https://github.com/arunponnusamy/cvlib-files/releases/download/v0.1/gender_net.caffemodel\n",
      "45649168/45649168 [==============================] - 4s 0us/step\n",
      "[INFO] Initializing gender detection model ..\n"
     ]
    }
   ],
   "source": [
    "face, confidence = cv.detect_face(image)\n",
    "padding = 20\n",
    "\n",
    "for i in face:\n",
    "    (x, y) = max(0, i[0]-padding), max(0, i[1]-padding)\n",
    "    (x2, y2) = min(image.shape[1]-1, i[2]+padding), min(image.shape[0]-1,i[3]+padding)\n",
    "    cv2.rectangle(image, (x, y), (x2, y2), (0, 255, 0), 2)\n",
    "    crop = np.copy(image[y:y2, x:x2])\n",
    "    (label, confidence) = cv.detect_gender(crop)\n",
    "    idx = np.argmax(confidence)\n",
    "    label = label[idx]\n",
    "    label = \"{}: {:.2f}%\".format(label, confidence[idx] * 100)\n",
    "    Y = y - 10 if y -10 > 10 else y + 10\n",
    "    cv2.putText(image, label, (y, Y), cv2.FONT_HERSHEY_SIMPLEX, 0.7, (0, 255, 0), 2)\n",
    "\n",
    "cv2.imshow('Gender Detection', image)\n",
    "cv2.imshow('Gender Detection', image2)\n",
    "cv2.waitKey()\n",
    "cv2.destroyAllWindows()"
   ]
  },
  {
   "cell_type": "code",
   "execution_count": null,
   "id": "6ff9be4e",
   "metadata": {},
   "outputs": [],
   "source": []
  }
 ],
 "metadata": {
  "kernelspec": {
   "display_name": "Python 3.9 (tensorflow)",
   "language": "python",
   "name": "tenserflow"
  },
  "language_info": {
   "codemirror_mode": {
    "name": "ipython",
    "version": 3
   },
   "file_extension": ".py",
   "mimetype": "text/x-python",
   "name": "python",
   "nbconvert_exporter": "python",
   "pygments_lexer": "ipython3",
   "version": "3.9.13"
  }
 },
 "nbformat": 4,
 "nbformat_minor": 5
}
